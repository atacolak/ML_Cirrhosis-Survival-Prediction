{
 "cells": [
  {
   "cell_type": "markdown",
   "id": "5c848868",
   "metadata": {},
   "source": [
    "# Predicting Survival in Patients with Liver Cirrhosis\n",
    "This project focuses on predicting the survival status of patients diagnosed with liver cirrhosis using machine learning models. The dataset includes clinical and laboratory features from patients, with the target variable being the survival status categorized as **'C', 'D',** or **'CL'**. \n",
    "\n",
    "### Objectives\n",
    "1. Preprocess the training and test datasets by handling missing values, encoding categorical features, and addressing class imbalance.\n",
    "2. Build and evaluate three machine learning models: Logistic Regression, Random Forest, and Support Vector Machine (SVM).\n",
    "3. Use the best-performing model to generate predictions on the test dataset.\n",
    "\n",
    "The project makes use of techniques such as SMOTE for class imbalance correction and employs a systematic evaluation to identify the most effective model for the task.\n"
   ]
  },
  {
   "cell_type": "code",
   "execution_count": 1,
   "id": "69347721-862a-4683-b025-7c8b7e39d116",
   "metadata": {},
   "outputs": [],
   "source": [
    "import pandas as pd\n",
    "from sklearn.preprocessing import StandardScaler\n",
    "from imblearn.over_sampling import SMOTE\n",
    "from sklearn.linear_model import LogisticRegression\n",
    "from sklearn.ensemble import RandomForestClassifier\n",
    "from sklearn.svm import SVC\n",
    "from sklearn.model_selection import train_test_split\n",
    "from sklearn.metrics import accuracy_score, classification_report\n",
    "import matplotlib.pyplot as plt"
   ]
  },
  {
   "cell_type": "markdown",
   "id": "e9b121b2",
   "metadata": {},
   "source": [
    "## Step 1: Load and Explore the Datasets\n",
    "The training and test datasets were loaded and analyzed to understand their structure and any data quality issues.\n",
    "\n",
    "### Dataset Overview\n",
    "- **Training Data:** 224 samples, 19 features (including 'Status')\n",
    "- **Test Data:** 88 samples, 18 features (excluding 'Status')\n",
    "\n",
    "### Missing Value Handling\n",
    "Four numerical features with missing values were identified:\n",
    "- Cholesterol\n",
    "- Copper\n",
    "- Tryglicerides\n",
    "- Platelets\n",
    "\n",
    "Missing values were imputed using the median of each feature to maintain consistency.\n",
    "\n",
    "### Encoding Categorical Features\n",
    "Categorical features such as 'Drug', 'Sex', 'Ascites', 'Hepatomegaly', 'Spiders', and 'Edema' were encoded using one-hot encoding. This conversion ensures that the machine learning models can effectively process these features.\n",
    "\n",
    "### Label Distribution\n",
    "The target variable ('Status') exhibited class imbalance:\n",
    "- **C:** 130 samples\n",
    "- **D:** 84 samples\n",
    "- **CL:** 10 samples\n",
    "\n",
    "This imbalance was addressed using SMOTE to generate synthetic samples for the minority classes, resulting in a balanced dataset.\n"
   ]
  },
  {
   "cell_type": "code",
   "execution_count": 2,
   "id": "cd7ddf25-cb45-4d4f-9c3d-2bc5e8abb353",
   "metadata": {},
   "outputs": [
    {
     "name": "stdout",
     "output_type": "stream",
     "text": [
      "Concat Data Dimensions: (312, 19)\n"
     ]
    }
   ],
   "source": [
    "train = pd.read_csv('5d_cirrhosis_train.csv')\n",
    "test = pd.read_csv('5d_cirrhosis_test.csv')\n",
    "\n",
    "#preserve testID and Status from test dataset\n",
    "test_IDs = test['testID']\n",
    "test_true_labels = test['Status'] if 'Status' in test.columns else None\n",
    "\n",
    "#drop trainID from train data\n",
    "train.drop('trainID', axis=1, inplace=True)\n",
    "\n",
    "#concat train and test for preprocessing\n",
    "data = pd.concat([train, test.drop(columns=['testID'])], sort=False)\n",
    "print(f\"Concat Data Dimensions: {data.shape}\")"
   ]
  },
  {
   "cell_type": "code",
   "execution_count": 3,
   "id": "ebc82842-d298-43d6-81c7-2f8163ac8399",
   "metadata": {},
   "outputs": [
    {
     "name": "stdout",
     "output_type": "stream",
     "text": [
      "----- Missing Data Information -----\n",
      "Feature: Status, Missing Entries: 88\n",
      "-------------------------------------------------\n"
     ]
    }
   ],
   "source": [
    "#numerical features w missing values\n",
    "numerical_features = ['Cholesterol', 'Copper', 'Tryglicerides', 'Platelets']\n",
    "\n",
    "#impute missing values with median of each feature\n",
    "for feature in numerical_features:\n",
    "    median_value = data[feature].median()\n",
    "    data[feature] = data[feature].fillna(median_value)\n",
    "\n",
    "#debug - print missing values remaining if any\n",
    "missing_data = data.isnull().sum()\n",
    "print(\"----- Missing Data Information -----\")\n",
    "for feature, missing_count in missing_data.items():\n",
    "    if missing_count > 0:\n",
    "        print(f\"Feature: {feature}, Missing Entries: {missing_count}\")\n",
    "print(\"-------------------------------------------------\")"
   ]
  },
  {
   "cell_type": "code",
   "execution_count": 4,
   "id": "de6c8d18-e8f0-4f10-aee3-3f9a92d01033",
   "metadata": {},
   "outputs": [],
   "source": [
    "#categorical features to be one-hot encoded\n",
    "categorical_features_to_encode = ['Drug', 'Sex', 'Ascites', 'Hepatomegaly', 'Spiders', 'Edema']\n",
    "\n",
    "#one-hot encode the categorical features\n",
    "data_encoded = pd.get_dummies(data, columns=categorical_features_to_encode, drop_first=True)"
   ]
  },
  {
   "cell_type": "code",
   "execution_count": 5,
   "id": "3492a57e-6933-4bd8-9682-b9eec3c09985",
   "metadata": {},
   "outputs": [],
   "source": [
    "#split data back into train and test set\n",
    "train_encoded = data_encoded[data_encoded['Status'].notnull()]\n",
    "test_encoded = data_encoded[data_encoded['Status'].isnull()].drop(columns=['Status'])\n",
    "\n",
    "#extract features and target from train dataset\n",
    "features_train = train_encoded.drop(columns=['Status'])\n",
    "target_train = train_encoded['Status']\n",
    "\n",
    "#only features for test dataset  (status is dropped)\n",
    "features_test = test_encoded"
   ]
  },
  {
   "cell_type": "code",
   "execution_count": 6,
   "id": "1fd9a0ec-42fb-475a-b879-5236054a5050",
   "metadata": {},
   "outputs": [
    {
     "name": "stdout",
     "output_type": "stream",
     "text": [
      "Label Distribution in Training Data:\n",
      "Status\n",
      "C     119\n",
      "D      93\n",
      "CL     12\n",
      "Name: count, dtype: int64\n"
     ]
    },
    {
     "data": {
      "image/png": "[encoded data removed]",
      "text/plain": [
       "<Figure size 640x480 with 1 Axes>"
      ]
     },
     "metadata": {},
     "output_type": "display_data"
    }
   ],
   "source": [
    "scaler = StandardScaler()\n",
    "scaler.fit(features_train)  #fit only on train data\n",
    "\n",
    "features_train_scaled = scaler.transform(features_train)\n",
    "features_test_scaled = scaler.transform(features_test)\n",
    "\n",
    "#label distribution in train data\n",
    "label_distribution = train['Status'].value_counts()\n",
    "print(\"Label Distribution in Training Data:\")\n",
    "print(label_distribution)\n",
    "\n",
    "#plot distribution\n",
    "label_distribution.plot(kind='bar', title='Label Distribution in Training Data', xlabel='Status', ylabel='Count')\n",
    "plt.show()"
   ]
  },
  {
   "cell_type": "code",
   "execution_count": 7,
   "id": "48ae6681-fff5-4e18-a149-5a25fb0e846f",
   "metadata": {},
   "outputs": [
    {
     "name": "stdout",
     "output_type": "stream",
     "text": [
      "Balanced Label Distribution in Training Data:\n",
      "Status\n",
      "D     119\n",
      "CL    119\n",
      "C     119\n",
      "Name: count, dtype: int64\n"
     ]
    },
    {
     "data": {
      "image/png": "[encoded data removed]",
      "text/plain": [
       "<Figure size 640x480 with 1 Axes>"
      ]
     },
     "metadata": {},
     "output_type": "display_data"
    }
   ],
   "source": [
    "#balance dataset using SMOTE\n",
    "smote = SMOTE(random_state=123)\n",
    "features_train_balanced, target_train_balanced = smote.fit_resample(features_train_scaled, target_train)\n",
    "\n",
    "#check new distribution of target\n",
    "print(\"Balanced Label Distribution in Training Data:\")\n",
    "print(pd.Series(target_train_balanced).value_counts())\n",
    "\n",
    "#plot balanced distribution\n",
    "pd.Series(target_train_balanced).value_counts().plot(kind='bar', title='Balanced Label Distribution in Training Data', xlabel='Status', ylabel='Count')\n",
    "plt.show()"
   ]
  },
  {
   "cell_type": "markdown",
   "id": "72d1eaba",
   "metadata": {},
   "source": [
    "## Step 2: Model Building and Evaluation\n",
    "Three supervised learning models were developed to predict the survival status:\n",
    "\n",
    "### Model Descriptions\n",
    "1. **Logistic Regression**: A simple and interpretable baseline model.\n",
    "2. **Random Forest**: A robust model that handles non-linear relationships and reduces overfitting by averaging multiple decision trees.\n",
    "3. **Support Vector Machine (SVM)**: A powerful model suited for high-dimensional data with versatility in kernel selection.\n",
    "\n",
    "### Handling Class Imbalance\n",
    "To ensure fair training across all classes, SMOTE was applied to balance the dataset. This technique created synthetic samples for the minority class ('CL'), resulting in equal representation for all classes.\n",
    "\n",
    "### Model Performance\n",
    "Each model was trained and evaluated using a validation set. The results showed:\n",
    "- **Random Forest** had the highest performance with 82% accuracy and strong recall for the minority class.\n",
    "- Logistic Regression and SVM also performed well but were slightly less effective than Random Forest.\n",
    "\n",
    "### Metric Selection\n",
    "Evaluation was conducted using metrics like precision, recall, and F1-score to ensure a holistic assessment of model performance.\n"
   ]
  },
  {
   "cell_type": "code",
   "execution_count": 8,
   "id": "a7b20188-ed94-47f9-b88f-99a903fc183b",
   "metadata": {},
   "outputs": [
    {
     "name": "stdout",
     "output_type": "stream",
     "text": [
      "Logistic Regression with SMOTE - Validation Set Evaluation:\n",
      "              precision    recall  f1-score   support\n",
      "\n",
      "           C       0.67      0.70      0.68        23\n",
      "          CL       0.72      0.84      0.78        25\n",
      "           D       0.89      0.71      0.79        24\n",
      "\n",
      "    accuracy                           0.75        72\n",
      "   macro avg       0.76      0.75      0.75        72\n",
      "weighted avg       0.76      0.75      0.75        72\n",
      "\n",
      "Random Forest with SMOTE - Validation Set Evaluation:\n",
      "              precision    recall  f1-score   support\n",
      "\n",
      "           C       0.71      0.87      0.78        23\n",
      "          CL       0.89      1.00      0.94        25\n",
      "           D       0.88      0.58      0.70        24\n",
      "\n",
      "    accuracy                           0.82        72\n",
      "   macro avg       0.83      0.82      0.81        72\n",
      "weighted avg       0.83      0.82      0.81        72\n",
      "\n",
      "SVM with SMOTE - Validation Set Evaluation:\n",
      "              precision    recall  f1-score   support\n",
      "\n",
      "           C       0.68      0.83      0.75        23\n",
      "          CL       0.85      0.88      0.86        25\n",
      "           D       0.89      0.67      0.76        24\n",
      "\n",
      "    accuracy                           0.79        72\n",
      "   macro avg       0.80      0.79      0.79        72\n",
      "weighted avg       0.81      0.79      0.79        72\n",
      "\n"
     ]
    }
   ],
   "source": [
    "#split training data into train/validate sets\n",
    "X_train, X_val, y_train, y_val = train_test_split(features_train_balanced, target_train_balanced, test_size=0.2, random_state=123)\n",
    "\n",
    "logreg_model = LogisticRegression(max_iter=1000, random_state=123)\n",
    "rf_model = RandomForestClassifier(random_state=123)\n",
    "svm_model = SVC(random_state=123)\n",
    "\n",
    "# Train and evaluate Logistic Regression\n",
    "logreg_model.fit(X_train, y_train)\n",
    "y_val_pred_logreg = logreg_model.predict(X_val)\n",
    "print(\"Logistic Regression with SMOTE - Validation Set Evaluation:\")\n",
    "print(classification_report(y_val, y_val_pred_logreg))\n",
    "\n",
    "# Train and evaluate Random Forest\n",
    "rf_model.fit(X_train, y_train)\n",
    "y_val_pred_rf = rf_model.predict(X_val)\n",
    "print(\"Random Forest with SMOTE - Validation Set Evaluation:\")\n",
    "print(classification_report(y_val, y_val_pred_rf))\n",
    "\n",
    "# Train and evaluate SVM\n",
    "svm_model.fit(X_train, y_train)\n",
    "y_val_pred_svm = svm_model.predict(X_val)\n",
    "print(\"SVM with SMOTE - Validation Set Evaluation:\")\n",
    "print(classification_report(y_val, y_val_pred_svm))"
   ]
  },
  {
   "cell_type": "markdown",
   "id": "e35bf95d",
   "metadata": {},
   "source": [
    "## Step 3: Test Set Predictions\n",
    "Using the best-performing model (Random Forest), predictions were generated for the test dataset. These predictions were saved to a CSV file (`test_predictions.csv`) to be submitted on Kaggle."
   ]
  },
  {
   "cell_type": "code",
   "execution_count": 9,
   "id": "17979cfe-7c98-4f3b-a5d0-ddcf02fc92ee",
   "metadata": {},
   "outputs": [
    {
     "name": "stdout",
     "output_type": "stream",
     "text": [
      "Test Predictions:\n",
      "   testID Predicted_Status\n",
      "0       1                C\n",
      "1       2                D\n",
      "2       3                C\n",
      "3       4                D\n",
      "4       5               CL\n"
     ]
    }
   ],
   "source": [
    "#predict on the test set using the random forest (best performing)\n",
    "test_predictions = rf_model.predict(features_test_scaled)\n",
    "\n",
    "#create df to store preds\n",
    "test_results = pd.DataFrame({'testID': test_IDs, 'Predicted_Status': test_predictions})\n",
    "\n",
    "#save the preds as CSV \n",
    "test_results.to_csv('test_predictions.csv', index=False)\n",
    "print('File saved successfully.')"
   ]
  }
 ],
 "metadata": {
  "kernelspec": {
   "display_name": "Python 3 (ipykernel)",
   "language": "python",
   "name": "python3"
  },
  "language_info": {
   "codemirror_mode": {
    "name": "ipython",
    "version": 3
   },
   "file_extension": ".py",
   "mimetype": "text/x-python",
   "name": "python",
   "nbconvert_exporter": "python",
   "pygments_lexer": "ipython3",
   "version": "3.11.9"
  }
 },
 "nbformat": 4,
 "nbformat_minor": 5
}
